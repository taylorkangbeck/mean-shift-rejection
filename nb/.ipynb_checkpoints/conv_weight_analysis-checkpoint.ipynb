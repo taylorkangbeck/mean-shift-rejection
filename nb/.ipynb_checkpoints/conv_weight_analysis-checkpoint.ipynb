{
 "cells": [
  {
   "cell_type": "markdown",
   "metadata": {},
   "source": [
    "# Analyzing statistics of Conv3x3 layers in pretrained models\n",
    "\n",
    "### Setup:\n",
    "\n",
    "`conda install -c conda-forge ipywidgets`\n",
    "\n",
    "*OR*\n",
    "\n",
    "`pip install ipywidgets` \n",
    "\n",
    "`jupyter nbextension enable --py widgetsnbextension`\n",
    "\n",
    "*AND*\n",
    "\n",
    "`conda install nb_conda_kernels`\n"
   ]
  },
  {
   "cell_type": "code",
   "execution_count": 61,
   "metadata": {},
   "outputs": [],
   "source": [
    "import mxnet as mx\n",
    "from mxnet import np\n",
    "import gluoncv\n",
    "import mxnet.ndarray as nd"
   ]
  },
  {
   "cell_type": "code",
   "execution_count": null,
   "metadata": {},
   "outputs": [],
   "source": [
    "# optional: uncomment to speed up np mode for pretrained statistics, but this breaks the baseline model\n",
    "# from mxnet import npx\n",
    "# npx.set_np()"
   ]
  },
  {
   "cell_type": "code",
   "execution_count": 114,
   "metadata": {},
   "outputs": [],
   "source": [
    "MODE = 'nd'\n",
    "\n",
    "class Stats:\n",
    "    def __init__(self, data, axis=0):\n",
    "        if MODE == 'np':\n",
    "            self.mean = np.mean(data, axis)\n",
    "            self.min = np.min(data, axis)\n",
    "            self.max = np.max(data, axis)\n",
    "            self.std = np.std(data, axis)\n",
    "        else:\n",
    "            self.mean = nd.mean(data, axis)\n",
    "            self.min = nd.min(data, axis)\n",
    "            self.max = nd.max(data, axis)\n",
    "            # nd does not have std implementation...\n",
    "    \n",
    "    \n",
    "class PassOnStats:\n",
    "    def __init__(self, stats):\n",
    "        if type(stats) == Stats:\n",
    "            stats = [stats]\n",
    "        if MODE == 'np':\n",
    "            self.mean = np.mean(np.array([s.mean for s in stats]))\n",
    "            self.min = np.min(np.array([s.min for s in stats]))\n",
    "            self.max = np.max(np.array([s.max for s in stats]))\n",
    "            # pass on the mean of the std value from the original stat\n",
    "            self.std = np.mean(np.array([s.std for s in stats]))\n",
    "        else:\n",
    "            from statistics import mean\n",
    "            self.mean = nd.mean(nd.stack(*[s.mean for s in stats]))\n",
    "            self.min = nd.min(nd.stack(*[s.min for s in stats]))\n",
    "            self.max = nd.max(nd.stack(*[s.max for s in stats]))\n",
    "            # nd does not have std implementation...\n",
    "        \n",
    "    \n",
    "def create_channelwise_stats(param):\n",
    "    # channelwise means for filters\n",
    "    if MODE == 'np':\n",
    "        cw_means = np.mean(param.data().as_np_ndarray(), axis=(2,3))\n",
    "    else:\n",
    "        cw_means = nd.mean(param.data(), axis=(2,3))\n",
    "    return Stats(cw_means, axis=0)\n",
    "    \n",
    "    \n",
    "class ModelParameterStats:\n",
    "    params = None\n",
    "    \n",
    "    def __init__(self, model, **kwargs):\n",
    "        self.model = model\n",
    "        self._collect_params(**kwargs)\n",
    "        self._collect_stats()\n",
    "        \n",
    "    def print_params(self):\n",
    "        for name in self.params:\n",
    "            p = name_params[name]\n",
    "            print(f'{p.name}:\\n  {p.shape}')\n",
    "        \n",
    "    def _collect_params(self,\n",
    "                      name_filters=[lambda name: 'conv' in name, lambda name: 'weight' in name], \n",
    "                      shape_filters=[lambda shape: len(shape) == 4, lambda shape: shape[2:] == (3, 3)]):\n",
    "        # collect list of params filtered by name\n",
    "        all_params = self.model.collect_params()\n",
    "        name_params = {name: all_params[name] for name in all_params if all([nf(name) for nf in name_filters])}\n",
    "        # filter by shape\n",
    "        shape_params = {}\n",
    "        for name in name_params:\n",
    "            p = name_params[name]\n",
    "            if all([sf(p.shape) for sf in shape_filters]):\n",
    "                shape_params[name] = p\n",
    "        self.params = shape_params\n",
    "        \n",
    "    def _collect_stats(self, stats_func=create_channelwise_stats):\n",
    "        self._collect_filter_stats(stats_func)\n",
    "        self._collect_param_stats()\n",
    "        self._collect_layer_stats()\n",
    "        self._collect_model_stats()\n",
    "    \n",
    "    def _collect_filter_stats(self, stats_func):\n",
    "        self.filter_stats = {}\n",
    "        for param in self.params.values():\n",
    "            self.filter_stats[param.name] = stats_func(param)\n",
    "    \n",
    "    def _collect_param_stats(self):\n",
    "        # stats across parameter/filter bank\n",
    "        self.param_stats = {}\n",
    "        for param_name, fstats in self.filter_stats.items():\n",
    "            self.param_stats[param_name] = PassOnStats(fstats)\n",
    "    \n",
    "    def _collect_layer_stats(self):\n",
    "        # stats across layer (collection of blocks in resnets)\n",
    "        from collections import defaultdict\n",
    "        self.layer_stats = {}\n",
    "        layer_param_stats = defaultdict(list)\n",
    "        # building lists of parameters by layer\n",
    "        for param_name in self.param_stats:\n",
    "            # parsing layer number\n",
    "            layer_name = list(filter(lambda x: 'layers' in x, param_name.split('_')))\n",
    "            if layer_name:\n",
    "                layer_name = layer_name[0]\n",
    "                layer_param_stats[layer_name].append(self.param_stats[param_name])\n",
    "        # setting statistics       \n",
    "        for layer, stats_list in layer_param_stats.items():\n",
    "            self.layer_stats[layer] = PassOnStats(stats_list)\n",
    "        \n",
    "    def _collect_model_stats(self):\n",
    "        self.model_stats = {}\n",
    "        self.model_stats = PassOnStats(list(self.layer_stats.values()))\n"
   ]
  },
  {
   "cell_type": "code",
   "execution_count": 115,
   "metadata": {},
   "outputs": [],
   "source": [
    "model_name = 'resnet50_v1b'"
   ]
  },
  {
   "cell_type": "code",
   "execution_count": 116,
   "metadata": {},
   "outputs": [],
   "source": [
    "# download and load the pre-trained model\n",
    "net = gluoncv.model_zoo.get_model(model_name, pretrained=True)"
   ]
  },
  {
   "cell_type": "code",
   "execution_count": 117,
   "metadata": {},
   "outputs": [],
   "source": [
    "stats = ModelParameterStats(net)"
   ]
  },
  {
   "cell_type": "code",
   "execution_count": 118,
   "metadata": {},
   "outputs": [
    {
     "data": {
      "text/plain": [
       "\n",
       "[-0.00077511]\n",
       "<NDArray 1 @cpu(0)>"
      ]
     },
     "execution_count": 118,
     "metadata": {},
     "output_type": "execute_result"
    }
   ],
   "source": [
    "stats.model_stats.mean"
   ]
  },
  {
   "cell_type": "code",
   "execution_count": 119,
   "metadata": {
    "scrolled": true
   },
   "outputs": [
    {
     "data": {
      "text/plain": [
       "\n",
       "[0.00034619]\n",
       "<NDArray 1 @cpu(0)>"
      ]
     },
     "execution_count": 119,
     "metadata": {},
     "output_type": "execute_result"
    }
   ],
   "source": [
    "stats.param_stats['resnetv1b_layers1_conv1_weight'].mean"
   ]
  },
  {
   "cell_type": "code",
   "execution_count": 120,
   "metadata": {},
   "outputs": [
    {
     "data": {
      "text/plain": [
       "\n",
       "[-0.08658515]\n",
       "<NDArray 1 @cpu(0)>"
      ]
     },
     "execution_count": 120,
     "metadata": {},
     "output_type": "execute_result"
    }
   ],
   "source": [
    "stats.param_stats['resnetv1b_layers1_conv1_weight'].min"
   ]
  },
  {
   "cell_type": "code",
   "execution_count": 121,
   "metadata": {},
   "outputs": [
    {
     "data": {
      "text/plain": [
       "\n",
       "[0.09441461]\n",
       "<NDArray 1 @cpu(0)>"
      ]
     },
     "execution_count": 121,
     "metadata": {},
     "output_type": "execute_result"
    }
   ],
   "source": [
    "stats.param_stats['resnetv1b_layers1_conv1_weight'].max"
   ]
  },
  {
   "cell_type": "code",
   "execution_count": 126,
   "metadata": {},
   "outputs": [],
   "source": [
    "# create the same model from scratch\n",
    "baseline_net = gluoncv.model_zoo.get_model(model_name, pretrained=False)"
   ]
  },
  {
   "cell_type": "code",
   "execution_count": 127,
   "metadata": {},
   "outputs": [],
   "source": [
    "baseline_net.hybridize()"
   ]
  },
  {
   "cell_type": "code",
   "execution_count": 128,
   "metadata": {},
   "outputs": [],
   "source": [
    "from mxnet.gluon.data.vision import transforms\n",
    "from gluoncv.data import transforms as gcv_transforms\n",
    "from mxnet import gluon\n",
    "\n",
    "transform_train = transforms.Compose([\n",
    "        gcv_transforms.RandomCrop(32, pad=4),\n",
    "        transforms.RandomFlipLeftRight(),\n",
    "        transforms.ToTensor(),\n",
    "        transforms.Normalize([0.4914, 0.4822, 0.4465], [0.2023, 0.1994, 0.2010])\n",
    "    ])\n",
    "\n",
    "def fake_train(epochs=1, ctx=[mx.cpu()]):\n",
    "    if isinstance(ctx, mx.Context):\n",
    "        ctx = [ctx]\n",
    "    baseline_net.initialize(mx.init.Xavier(), ctx=ctx)\n",
    "\n",
    "    train_data = gluon.data.DataLoader(\n",
    "        gluon.data.vision.CIFAR100(train=True).transform_first(transform_train),\n",
    "        batch_size=2)\n",
    "\n",
    "    for i, batch in enumerate(train_data):\n",
    "        data = gluon.utils.split_and_load(batch[0], ctx_list=ctx, batch_axis=0)\n",
    "        label = gluon.utils.split_and_load(batch[1], ctx_list=ctx, batch_axis=0)\n",
    "\n",
    "        output = [baseline_net(X) for X in data]\n",
    "\n",
    "        return"
   ]
  },
  {
   "cell_type": "code",
   "execution_count": 129,
   "metadata": {},
   "outputs": [],
   "source": [
    "# need to do this to initialize all params\n",
    "fake_train()"
   ]
  },
  {
   "cell_type": "code",
   "execution_count": 130,
   "metadata": {
    "scrolled": true
   },
   "outputs": [],
   "source": [
    "baseline_stats = ModelParameterStats(baseline_net)"
   ]
  },
  {
   "cell_type": "code",
   "execution_count": 131,
   "metadata": {},
   "outputs": [
    {
     "data": {
      "text/plain": [
       "\n",
       "[-6.0612447e-06]\n",
       "<NDArray 1 @cpu(0)>"
      ]
     },
     "execution_count": 131,
     "metadata": {},
     "output_type": "execute_result"
    }
   ],
   "source": [
    "baseline_stats.model_stats.mean"
   ]
  },
  {
   "cell_type": "code",
   "execution_count": 132,
   "metadata": {},
   "outputs": [
    {
     "data": {
      "text/plain": [
       "\n",
       "[-0.00016074]\n",
       "<NDArray 1 @cpu(0)>"
      ]
     },
     "execution_count": 132,
     "metadata": {},
     "output_type": "execute_result"
    }
   ],
   "source": [
    "baseline_stats.param_stats['resnetv1b_layers1_conv1_weight'].mean"
   ]
  },
  {
   "cell_type": "code",
   "execution_count": 133,
   "metadata": {},
   "outputs": [
    {
     "data": {
      "text/plain": [
       "\n",
       "[-0.04811678]\n",
       "<NDArray 1 @cpu(0)>"
      ]
     },
     "execution_count": 133,
     "metadata": {},
     "output_type": "execute_result"
    }
   ],
   "source": [
    "baseline_stats.param_stats['resnetv1b_layers1_conv1_weight'].min"
   ]
  },
  {
   "cell_type": "code",
   "execution_count": 134,
   "metadata": {},
   "outputs": [
    {
     "data": {
      "text/plain": [
       "\n",
       "[0.04507212]\n",
       "<NDArray 1 @cpu(0)>"
      ]
     },
     "execution_count": 134,
     "metadata": {},
     "output_type": "execute_result"
    }
   ],
   "source": [
    "baseline_stats.param_stats['resnetv1b_layers1_conv1_weight'].max"
   ]
  },
  {
   "cell_type": "code",
   "execution_count": null,
   "metadata": {},
   "outputs": [],
   "source": []
  },
  {
   "cell_type": "code",
   "execution_count": null,
   "metadata": {},
   "outputs": [],
   "source": []
  }
 ],
 "metadata": {
  "kernelspec": {
   "display_name": "Python [conda env:mxnet-msr] *",
   "language": "python",
   "name": "conda-env-mxnet-msr-py"
  },
  "language_info": {
   "codemirror_mode": {
    "name": "ipython",
    "version": 3
   },
   "file_extension": ".py",
   "mimetype": "text/x-python",
   "name": "python",
   "nbconvert_exporter": "python",
   "pygments_lexer": "ipython3",
   "version": "3.7.7"
  }
 },
 "nbformat": 4,
 "nbformat_minor": 4
}
